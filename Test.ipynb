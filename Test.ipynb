{
 "cells": [
  {
   "cell_type": "markdown",
   "metadata": {},
   "source": [
    "# Verrerie et variabilité\n",
    "**Objectif du BO** : Représenter l’histogramme associé à une série de mesures à l’aide d’un tableur ou d'un langage de programmation."
   ]
  },
  {
   "cell_type": "code",
   "execution_count": null,
   "metadata": {},
   "outputs": [],
   "source": [
    "# Volumes prélevés avec une pipette jaugée\n",
    "Vpj=[24.97,24.96,24.87,24.94,24.98,24.87,24.96,24.98,24.92,24.96,24.98,24.97,24.95,24.98,24.99,24.89,24.88,24.93,24.95,24.95]\n",
    "\n",
    "# Volumes prélevés avec une pipette graduée\n",
    "Vpg=[24.76,24.75,24.71,24.97,24.61,24.68,24.81,24.82,24.75,24.76,24.87,25.1,24.85,25,25.1,25.12,24.75,25.12,24.9,24.84]"
   ]
  },
  {
   "cell_type": "code",
   "execution_count": null,
   "metadata": {},
   "outputs": [],
   "source": [
    "import matplotlib.pyplot as plt\n",
    "plt.figure(1)\n",
    "list = Vpj+Vpg\n",
    "plt.hist([Vpj,Vpg],range=(min(list),max(list)),bins=10,color=['b','y'])\n",
    "plt.ylabel('Fréquence')\n",
    "plt.legend(['Pipette jaugée','Pipette graduée'])\n",
    "plt.show()"
   ]
  },
  {
   "cell_type": "code",
   "execution_count": null,
   "metadata": {},
   "outputs": [],
   "source": []
  }
 ],
 "metadata": {
  "kernelspec": {
   "display_name": "Python 3",
   "language": "python",
   "name": "python3"
  },
  "language_info": {
   "codemirror_mode": {
    "name": "ipython",
    "version": 3
   },
   "file_extension": ".py",
   "mimetype": "text/x-python",
   "name": "python",
   "nbconvert_exporter": "python",
   "pygments_lexer": "ipython3",
   "version": "3.7.4"
  }
 },
 "nbformat": 4,
 "nbformat_minor": 2
}
